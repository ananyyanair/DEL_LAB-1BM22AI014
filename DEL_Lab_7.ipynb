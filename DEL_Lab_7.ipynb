{
  "nbformat": 4,
  "nbformat_minor": 0,
  "metadata": {
    "colab": {
      "provenance": []
    },
    "kernelspec": {
      "name": "python3",
      "display_name": "Python 3"
    },
    "language_info": {
      "name": "python"
    }
  },
  "cells": [
    {
      "cell_type": "code",
      "execution_count": null,
      "metadata": {
        "id": "675FsPRWL894"
      },
      "outputs": [],
      "source": [
        "# Develop a program to classify the MNIST Dataset usingConvolution Neural Network"
      ]
    },
    {
      "cell_type": "code",
      "source": [
        "import tensorflow as tf\n",
        "from tensorflow.keras.models import Sequential\n",
        "from tensorflow.keras.layers import Conv2D, MaxPooling2D, Flatten, Dense, Dropout\n",
        "from tensorflow.keras.datasets import mnist\n",
        "from tensorflow.keras.utils import to_categorical\n",
        "\n",
        "(xtrain, ytrain), (xtest, ytest) = mnist.load_data()\n",
        "xtrain = xtrain.reshape(xtrain.shape[0], 28, 28, 1).astype('float32') / 255.0\n",
        "xtest = xtest.reshape(xtest.shape[0], 28, 28, 1).astype('float32') / 255.0\n",
        "ytrain = to_categorical(ytrain, 10)\n",
        "ytest = to_categorical(ytest, 10)\n",
        "model = Sequential([\n",
        "Conv2D(32, kernel_size=(3, 3), activation='relu', input_shape=(28, 28, 1)),\n",
        "MaxPooling2D(pool_size=(2, 2)),\n",
        "Conv2D(64, kernel_size=(3, 3), activation='relu'),\n",
        "MaxPooling2D(pool_size=(2, 2)),\n",
        "Flatten(),\n",
        "Dense(128, activation='relu'),\n",
        "Dropout(0.5),\n",
        "Dense(10, activation='softmax')\n",
        "])\n",
        "model.compile(optimizer='adam',\n",
        "loss='categorical_crossentropy',\n",
        "metrics=['accuracy'])\n",
        "history = model.fit(xtrain, ytrain,\n",
        "epochs=10,\n",
        "batch_size=64,\n",
        "validation_data=(xtest, ytest))\n",
        "testloss, testacc = model.evaluate(xtest, ytest)\n",
        "print(f\"Test Accuracy: {testacc:.2f}\")\n",
        "pred = model.predict(xtest[:5])\n",
        "for i, prediction in enumerate(pred):\n",
        "  print(f\"Sample {i} - Predicted Label: {tf.argmax(prediction).numpy()}, True Label:{tf.argmax(ytest[i]).numpy()}\")"
      ],
      "metadata": {
        "colab": {
          "base_uri": "https://localhost:8080/"
        },
        "id": "ow07TRI3Qu64",
        "outputId": "ad4eeb69-1b0f-4d74-ae04-1060faaedf31"
      },
      "execution_count": null,
      "outputs": [
        {
          "output_type": "stream",
          "name": "stdout",
          "text": [
            "Epoch 1/10\n",
            "\u001b[1m938/938\u001b[0m \u001b[32m━━━━━━━━━━━━━━━━━━━━\u001b[0m\u001b[37m\u001b[0m \u001b[1m55s\u001b[0m 57ms/step - accuracy: 0.8348 - loss: 0.5240 - val_accuracy: 0.9843 - val_loss: 0.0511\n",
            "Epoch 2/10\n",
            "\u001b[1m938/938\u001b[0m \u001b[32m━━━━━━━━━━━━━━━━━━━━\u001b[0m\u001b[37m\u001b[0m \u001b[1m52s\u001b[0m 56ms/step - accuracy: 0.9699 - loss: 0.1034 - val_accuracy: 0.9868 - val_loss: 0.0399\n",
            "Epoch 3/10\n",
            "\u001b[1m938/938\u001b[0m \u001b[32m━━━━━━━━━━━━━━━━━━━━\u001b[0m\u001b[37m\u001b[0m \u001b[1m82s\u001b[0m 55ms/step - accuracy: 0.9802 - loss: 0.0684 - val_accuracy: 0.9883 - val_loss: 0.0322\n",
            "Epoch 4/10\n",
            "\u001b[1m938/938\u001b[0m \u001b[32m━━━━━━━━━━━━━━━━━━━━\u001b[0m\u001b[37m\u001b[0m \u001b[1m52s\u001b[0m 55ms/step - accuracy: 0.9838 - loss: 0.0573 - val_accuracy: 0.9897 - val_loss: 0.0324\n",
            "Epoch 5/10\n",
            "\u001b[1m938/938\u001b[0m \u001b[32m━━━━━━━━━━━━━━━━━━━━\u001b[0m\u001b[37m\u001b[0m \u001b[1m81s\u001b[0m 55ms/step - accuracy: 0.9869 - loss: 0.0447 - val_accuracy: 0.9910 - val_loss: 0.0261\n",
            "Epoch 6/10\n",
            "\u001b[1m938/938\u001b[0m \u001b[32m━━━━━━━━━━━━━━━━━━━━\u001b[0m\u001b[37m\u001b[0m \u001b[1m80s\u001b[0m 53ms/step - accuracy: 0.9877 - loss: 0.0396 - val_accuracy: 0.9925 - val_loss: 0.0264\n",
            "Epoch 7/10\n",
            "\u001b[1m938/938\u001b[0m \u001b[32m━━━━━━━━━━━━━━━━━━━━\u001b[0m\u001b[37m\u001b[0m \u001b[1m84s\u001b[0m 55ms/step - accuracy: 0.9897 - loss: 0.0328 - val_accuracy: 0.9925 - val_loss: 0.0242\n",
            "Epoch 8/10\n",
            "\u001b[1m938/938\u001b[0m \u001b[32m━━━━━━━━━━━━━━━━━━━━\u001b[0m\u001b[37m\u001b[0m \u001b[1m82s\u001b[0m 55ms/step - accuracy: 0.9904 - loss: 0.0301 - val_accuracy: 0.9924 - val_loss: 0.0257\n",
            "Epoch 9/10\n",
            "\u001b[1m938/938\u001b[0m \u001b[32m━━━━━━━━━━━━━━━━━━━━\u001b[0m\u001b[37m\u001b[0m \u001b[1m80s\u001b[0m 53ms/step - accuracy: 0.9925 - loss: 0.0246 - val_accuracy: 0.9935 - val_loss: 0.0214\n",
            "Epoch 10/10\n",
            "\u001b[1m938/938\u001b[0m \u001b[32m━━━━━━━━━━━━━━━━━━━━\u001b[0m\u001b[37m\u001b[0m \u001b[1m84s\u001b[0m 55ms/step - accuracy: 0.9936 - loss: 0.0200 - val_accuracy: 0.9929 - val_loss: 0.0219\n",
            "\u001b[1m313/313\u001b[0m \u001b[32m━━━━━━━━━━━━━━━━━━━━\u001b[0m\u001b[37m\u001b[0m \u001b[1m3s\u001b[0m 8ms/step - accuracy: 0.9914 - loss: 0.0273\n",
            "Test Accuracy: 0.99\n",
            "\u001b[1m1/1\u001b[0m \u001b[32m━━━━━━━━━━━━━━━━━━━━\u001b[0m\u001b[37m\u001b[0m \u001b[1m0s\u001b[0m 76ms/step\n",
            "Sample 0 - Predicted Label: 7, True Label:7\n",
            "Sample 1 - Predicted Label: 2, True Label:2\n",
            "Sample 2 - Predicted Label: 1, True Label:1\n",
            "Sample 3 - Predicted Label: 0, True Label:0\n",
            "Sample 4 - Predicted Label: 4, True Label:4\n"
          ]
        }
      ]
    }
  ]
}