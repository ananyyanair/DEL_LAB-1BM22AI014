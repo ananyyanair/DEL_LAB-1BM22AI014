{
  "nbformat": 4,
  "nbformat_minor": 0,
  "metadata": {
    "colab": {
      "provenance": []
    },
    "kernelspec": {
      "name": "python3",
      "display_name": "Python 3"
    },
    "language_info": {
      "name": "python"
    }
  },
  "cells": [
    {
      "cell_type": "code",
      "source": [
        "import tensorflow as tf\n",
        "import numpy as np\n",
        "from tensorflow.keras import layers, models\n",
        "\n",
        "def build_model():\n",
        "    model = models.Sequential([\n",
        "        layers.Flatten(input_shape=(28, 28)),\n",
        "        layers.Dense(128, activation='relu'),\n",
        "        layers.Dense(10, activation='softmax')\n",
        "    ])\n",
        "    model.compile(optimizer='adam', loss='sparse_categorical_crossentropy', metrics=['accuracy'])\n",
        "    return model\n",
        "\n",
        "# Adversarial Examples (FGSM)\n",
        "def generate_adversarial_examples(model, x, y, epsilon=0.1):\n",
        "    with tf.GradientTape() as tape:\n",
        "        tape.watch(x)\n",
        "        predictions = model(x)\n",
        "        loss = tf.keras.losses.sparse_categorical_crossentropy(y, predictions)\n",
        "    gradients = tape.gradient(loss, x)\n",
        "    x_adv = x + epsilon * tf.sign(gradients)\n",
        "    return tf.clip_by_value(x_adv, 0.0, 1.0)\n",
        "\n",
        "# Tangent Distance\n",
        "def tangent_distance(x, x_adv):\n",
        "    return tf.linalg.norm(x - x_adv, axis=1)\n",
        "\n",
        "# Tangent Propagation\n",
        "def tangent_propagation(model, x, epsilon=0.1):\n",
        "    with tf.GradientTape() as tape:\n",
        "        tape.watch(x)\n",
        "        predictions = model(x)\n",
        "    gradients = tape.gradient(predictions, x)\n",
        "    perturbation = epsilon * tf.sign(gradients)\n",
        "    return perturbation\n",
        "\n",
        "(x_train, y_train), (x_test, y_test) = tf.keras.datasets.mnist.load_data()\n",
        "x_train, x_test = x_train / 255.0, x_test / 255.0\n",
        "model = build_model()\n",
        "for epoch in range(5):\n",
        "    print(f\"Epoch {epoch+1}/5\")\n",
        "    x_adv_train = generate_adversarial_examples(model, tf.convert_to_tensor(x_train, dtype=tf.float32),\n",
        "                                                tf.convert_to_tensor(y_train, dtype=tf.float32), epsilon=0.1)\n",
        "    x_adv_test = generate_adversarial_examples(model, tf.convert_to_tensor(x_test, dtype=tf.float32),\n",
        "                                               tf.convert_to_tensor(y_test, dtype=tf.float32), epsilon=0.1)\n",
        "    x_combined = tf.concat([tf.convert_to_tensor(x_train, dtype=tf.float32), x_adv_train], axis=0)\n",
        "    y_combined = tf.concat([tf.convert_to_tensor(y_train, dtype=tf.int32), tf.convert_to_tensor(y_train, dtype=tf.int32)], axis=0)\n",
        "    assert x_combined.shape[0] == y_combined.shape[0], f\"Mismatch: {x_combined.shape[0]} != {y_combined.shape[0]}\"\n",
        "    model.fit(x_combined, y_combined, batch_size=128, epochs=1, verbose=0)\n",
        "    perturbation = tangent_propagation(model, tf.convert_to_tensor(x_test, dtype=tf.float32))\n",
        "    dist = tangent_distance(tf.convert_to_tensor(x_test, dtype=tf.float32), x_adv_test)\n",
        "    print(f\"  - Training loss: {model.history.history['loss'][0]:.4f}\")\n",
        "    print(f\"  - Training accuracy: {model.history.history['accuracy'][0]:.4f}\")\n",
        "    print(f\"  - Tangent Distance: {dist.numpy().mean():.4f}\")\n",
        "    print()\n"
      ],
      "metadata": {
        "colab": {
          "base_uri": "https://localhost:8080/"
        },
        "id": "n8tGvlv7QsBq",
        "outputId": "d3a30f5d-4ad5-49b3-f007-10b0700f6dd8"
      },
      "execution_count": null,
      "outputs": [
        {
          "output_type": "stream",
          "name": "stdout",
          "text": [
            "Epoch 1/5\n",
            "  - Training loss: 0.2390\n",
            "  - Training accuracy: 0.9344\n",
            "  - Tangent Distance: 0.3895\n",
            "\n",
            "Epoch 2/5\n",
            "  - Training loss: 0.1814\n",
            "  - Training accuracy: 0.9569\n",
            "  - Tangent Distance: 0.3996\n",
            "\n",
            "Epoch 3/5\n",
            "  - Training loss: 0.1426\n",
            "  - Training accuracy: 0.9649\n",
            "  - Tangent Distance: 0.4062\n",
            "\n",
            "Epoch 4/5\n",
            "  - Training loss: 0.1260\n",
            "  - Training accuracy: 0.9682\n",
            "  - Tangent Distance: 0.4063\n",
            "\n",
            "Epoch 5/5\n",
            "  - Training loss: 0.1128\n",
            "  - Training accuracy: 0.9725\n",
            "  - Tangent Distance: 0.4072\n",
            "\n"
          ]
        }
      ]
    }
  ]
}