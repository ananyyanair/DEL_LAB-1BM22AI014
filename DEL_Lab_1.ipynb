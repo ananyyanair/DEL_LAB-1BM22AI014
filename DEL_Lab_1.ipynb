{
 "cells": [
  {
   "cell_type": "code",
   "execution_count": 6,
   "id": "f8de44f4-666f-4019-b570-0e9e991467a4",
   "metadata": {},
   "outputs": [
    {
     "name": "stdout",
     "output_type": "stream",
     "text": [
      "Input: [0 0]\tPredicted Output: [0.01799098]\tExpected Output: [0]\n",
      "Input: [0 1]\tPredicted Output: [0.98754687]\tExpected Output: [1]\n",
      "Input: [1 0]\tPredicted Output: [0.98365031]\tExpected Output: [1]\n",
      "Input: [1 1]\tPredicted Output: [0.01446947]\tExpected Output: [0]\n"
     ]
    }
   ],
   "source": [
    "import numpy as np\n",
    "import matplotlib.pyplot as plt\n",
    "\n",
    "# XOR - SIGMOID\n",
    "def sigmoid(x):\n",
    "  return 1/(1+np.exp(-x))\n",
    "def dersigmoid(x):\n",
    "  return x*(1-x)\n",
    "\n",
    "ip = np.array([[0,0], [0,1], [1,0], [1,1]])\n",
    "expectedop = np.array([[0], [1], [1], [0]])\n",
    "np.random.seed(42)\n",
    "w0 = 2 * np.random.random((2, 4)) - 1\n",
    "w1 = 2* np.random.random((4, 1)) - 1\n",
    "for i in range(10000):\n",
    "  hiddenlayer = sigmoid(np.dot(ip, w0))\n",
    "  outputlayer = sigmoid(np.dot(hiddenlayer, w1))\n",
    "\n",
    "  outputlayererror = expectedop - outputlayer\n",
    "  outputlayerder = outputlayererror * dersigmoid(outputlayer)\n",
    "  hiddenlayererror = np.dot(outputlayererror, w1.T)\n",
    "  hiddenlayerder = hiddenlayererror * dersigmoid(hiddenlayer)\n",
    "  w1 += np.dot(hiddenlayer.T, outputlayerder)\n",
    "  w0 += np.dot(ip.T, hiddenlayerder)\n",
    "predop = sigmoid(np.dot(sigmoid(np.dot(ip, w0)), w1))\n",
    "for i in range(len(ip)):\n",
    "  print(f\"Input: {ip[i]}\\tPredicted Output: {predop[i]}\\tExpected Output: {expectedop[i]}\")"
   ]
  },
  {
   "cell_type": "code",
   "execution_count": null,
   "id": "202b270b-d261-418c-a9b4-60f267de04f6",
   "metadata": {},
   "outputs": [],
   "source": []
  },
  {
   "cell_type": "code",
   "execution_count": 8,
   "id": "bdf2ed60-66b0-4ed4-85ad-b312242ddf57",
   "metadata": {},
   "outputs": [
    {
     "name": "stdout",
     "output_type": "stream",
     "text": [
      "Input: [0 0]\tPredicted Output: [0.]\tExpected Output: [0]\n",
      "Input: [0 1]\tPredicted Output: [0.99290224]\tExpected Output: [1]\n",
      "Input: [1 0]\tPredicted Output: [1.00704997]\tExpected Output: [1]\n",
      "Input: [1 1]\tPredicted Output: [0.]\tExpected Output: [0]\n"
     ]
    }
   ],
   "source": [
    "import numpy as np\n",
    "import matplotlib.pyplot as plt\n",
    "\n",
    "# XOR - ReLU\n",
    "def relu(x):\n",
    "  return np.maximum(0, x)\n",
    "def derrelu(x):\n",
    "  return np.where(x>0, 1, 0)\n",
    "\n",
    "ip = np.array([[0,0], [0,1], [1,0], [1,1]])\n",
    "expectedop = np.array([[0], [1], [1], [0]])\n",
    "np.random.seed(42)\n",
    "w0 = 2 * np.random.random((2, 4)) - 1\n",
    "w1 = 2* np.random.random((4, 1)) - 1\n",
    "for i in range(10000):\n",
    "  hiddenlayer = relu(np.dot(ip, w0))\n",
    "  outputlayer = relu(np.dot(hiddenlayer, w1))\n",
    "\n",
    "  outputlayererror = expectedop - outputlayer\n",
    "  outputlayerder = outputlayererror * derrelu(outputlayer)\n",
    "  hiddenlayererror = np.dot(outputlayererror, w1.T)\n",
    "  hiddenlayerder = hiddenlayererror * derrelu(hiddenlayer)\n",
    "  w1 += np.dot(hiddenlayer.T, outputlayerder)\n",
    "  w0 += np.dot(ip.T, hiddenlayerder)\n",
    "predop = relu(np.dot(relu(np.dot(ip, w0)), w1))\n",
    "for i in range(len(ip)):\n",
    "  print(f\"Input: {ip[i]}\\tPredicted Output: {predop[i]}\\tExpected Output: {expectedop[i]}\")"
   ]
  }
 ],
 "metadata": {
  "kernelspec": {
   "display_name": "Python 3 (ipykernel)",
   "language": "python",
   "name": "python3"
  },
  "language_info": {
   "codemirror_mode": {
    "name": "ipython",
    "version": 3
   },
   "file_extension": ".py",
   "mimetype": "text/x-python",
   "name": "python",
   "nbconvert_exporter": "python",
   "pygments_lexer": "ipython3",
   "version": "3.12.4"
  }
 },
 "nbformat": 4,
 "nbformat_minor": 5
}
