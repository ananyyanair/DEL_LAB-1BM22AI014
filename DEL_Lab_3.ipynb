{
  "nbformat": 4,
  "nbformat_minor": 0,
  "metadata": {
    "colab": {
      "provenance": []
    },
    "kernelspec": {
      "name": "python3",
      "display_name": "Python 3"
    },
    "language_info": {
      "name": "python"
    }
  },
  "cells": [
    {
      "cell_type": "code",
      "execution_count": 57,
      "metadata": {
        "colab": {
          "base_uri": "https://localhost:8080/"
        },
        "id": "jYs8P1vUmvxI",
        "outputId": "334b05e8-71cb-4882-876f-040fde812384"
      },
      "outputs": [
        {
          "output_type": "stream",
          "name": "stdout",
          "text": [
            "Final Cost Function: 10.177716\n",
            "Mean Squared Error: 0.220000\n",
            "Accuracy: 0.78\n",
            "\n",
            "Predicted Output:\n",
            " [1, 0, 1, 0, 1, 0, 0, 0, 1, 0, 0, 1, 0, 1, 1, 0, 1, 0, 1, 1, 1, 0, 1, 1, 1, 1, 0, 0, 1, 0, 0, 1, 0, 0, 1, 1, 0, 1, 1, 1, 1, 0, 0, 1, 0, 1, 0, 0, 1, 0]\n",
            "\n",
            "Actual Output:\n",
            " [1, 0, 1, 0, 1, 0, 1, 0, 1, 1, 0, 1, 0, 1, 1, 1, 1, 1, 0, 1, 0, 0, 1, 1, 1, 1, 1, 0, 0, 0, 0, 1, 0, 0, 0, 0, 0, 1, 1, 1, 0, 0, 0, 1, 0, 1, 0, 0, 1, 0]\n"
          ]
        }
      ],
      "source": [
        "# Single Layer Perceptron\n",
        "import pandas as pd\n",
        "import numpy as np\n",
        "from sklearn.preprocessing import StandardScaler\n",
        "from sklearn.metrics import accuracy_score\n",
        "def sigmoid(x):\n",
        "  return 1/(1+np.exp(-x))\n",
        "#def tanh(x):\n",
        "  #return (np.exp(x)-np.exp(-x))/(np.exp(x)+np.exp(-x))\n",
        "data = pd.read_csv(\"diabetes.csv\")\n",
        "data = data.iloc[:50]\n",
        "input = data.iloc[:,:-1].values\n",
        "output = data.iloc[:,-1].values\n",
        "features = input.shape[1]\n",
        "scaler = StandardScaler()\n",
        "input = scaler.fit_transform(input)\n",
        "weights = np.random.rand(features)\n",
        "epoch = 10000; lr = 0.1; bias = 0\n",
        "for i in range(epoch):\n",
        "  cost = 0\n",
        "  for index, xi in enumerate(input):\n",
        "    sum = np.dot(xi, weights) + bias\n",
        "    predoutput = sigmoid(sum)\n",
        "    error = output[index] - predoutput\n",
        "    weights += lr*error*xi\n",
        "    bias += lr*error\n",
        "    cost += error**2\n",
        "predictedoutput = []\n",
        "for xi in input:\n",
        "  sum = np.dot(xi, weights) + bias\n",
        "  predoutput = sigmoid(sum)\n",
        "  predictedoutput.append(1 if predoutput>=0.5 else 0)\n",
        "print(f\"Final Cost Function: {cost:.6f}\")\n",
        "mse = np.mean((output - predictedoutput)**2)\n",
        "print(f\"Mean Squared Error: {mse:.6f}\")\n",
        "acc = accuracy_score(output, predictedoutput)\n",
        "print(\"Accuracy:\", acc)\n",
        "print(\"\\nPredicted Output:\\n\", predictedoutput)\n",
        "print(\"\\nActual Output:\\n\", output.tolist())"
      ]
    }
  ]
}
